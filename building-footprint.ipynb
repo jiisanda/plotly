{
 "cells": [
  {
   "metadata": {
    "ExecuteTime": {
     "end_time": "2025-01-23T06:21:11.914862Z",
     "start_time": "2025-01-23T06:21:11.023968Z"
    }
   },
   "cell_type": "code",
   "source": [
    "import geopandas as gpd\n",
    "import plotly.graph_objects as go\n",
    "import json"
   ],
   "id": "8a4c8501e5ea92d1",
   "outputs": [],
   "execution_count": 1
  },
  {
   "cell_type": "code",
   "id": "initial_id",
   "metadata": {
    "collapsed": true,
    "ExecuteTime": {
     "end_time": "2025-01-23T06:21:14.455948Z",
     "start_time": "2025-01-23T06:21:11.939105Z"
    }
   },
   "source": [
    "gdf = gpd.read_file(\"dataset/building/Building_Footprints.shp\")\n",
    "gdf = gdf.to_crs(epsg=4326)\n",
    "\n",
    "gdf.head()"
   ],
   "outputs": [
    {
     "data": {
      "text/plain": [
       "   FEATURECOD DESCRIPTIO CAPTUREYEA CAPTUREACT     GIS_ID  OBJECTID  \\\n",
       "0        2000   Building 2015-04-24          E  BldgPly_1         1   \n",
       "1        2000   Building 2015-04-24          E  BldgPly_2         2   \n",
       "2        2000   Building 2015-04-24          E  BldgPly_3         3   \n",
       "3        2000   Building 2015-04-24          E  BldgPly_4         4   \n",
       "4        2000   Building 2015-04-24          E  BldgPly_5         5   \n",
       "\n",
       "                                            geometry  \n",
       "0  POLYGON ((-77.08521 38.9398, -77.0851 38.93975...  \n",
       "1  POLYGON ((-77.07723 38.93686, -77.07715 38.936...  \n",
       "2  POLYGON ((-77.07596 38.93971, -77.07592 38.939...  \n",
       "3  POLYGON ((-77.07363 38.92978, -77.07363 38.929...  \n",
       "4  POLYGON ((-77.07657 38.93682, -77.07656 38.936...  "
      ],
      "text/html": [
       "<div>\n",
       "<style scoped>\n",
       "    .dataframe tbody tr th:only-of-type {\n",
       "        vertical-align: middle;\n",
       "    }\n",
       "\n",
       "    .dataframe tbody tr th {\n",
       "        vertical-align: top;\n",
       "    }\n",
       "\n",
       "    .dataframe thead th {\n",
       "        text-align: right;\n",
       "    }\n",
       "</style>\n",
       "<table border=\"1\" class=\"dataframe\">\n",
       "  <thead>\n",
       "    <tr style=\"text-align: right;\">\n",
       "      <th></th>\n",
       "      <th>FEATURECOD</th>\n",
       "      <th>DESCRIPTIO</th>\n",
       "      <th>CAPTUREYEA</th>\n",
       "      <th>CAPTUREACT</th>\n",
       "      <th>GIS_ID</th>\n",
       "      <th>OBJECTID</th>\n",
       "      <th>geometry</th>\n",
       "    </tr>\n",
       "  </thead>\n",
       "  <tbody>\n",
       "    <tr>\n",
       "      <th>0</th>\n",
       "      <td>2000</td>\n",
       "      <td>Building</td>\n",
       "      <td>2015-04-24</td>\n",
       "      <td>E</td>\n",
       "      <td>BldgPly_1</td>\n",
       "      <td>1</td>\n",
       "      <td>POLYGON ((-77.08521 38.9398, -77.0851 38.93975...</td>\n",
       "    </tr>\n",
       "    <tr>\n",
       "      <th>1</th>\n",
       "      <td>2000</td>\n",
       "      <td>Building</td>\n",
       "      <td>2015-04-24</td>\n",
       "      <td>E</td>\n",
       "      <td>BldgPly_2</td>\n",
       "      <td>2</td>\n",
       "      <td>POLYGON ((-77.07723 38.93686, -77.07715 38.936...</td>\n",
       "    </tr>\n",
       "    <tr>\n",
       "      <th>2</th>\n",
       "      <td>2000</td>\n",
       "      <td>Building</td>\n",
       "      <td>2015-04-24</td>\n",
       "      <td>E</td>\n",
       "      <td>BldgPly_3</td>\n",
       "      <td>3</td>\n",
       "      <td>POLYGON ((-77.07596 38.93971, -77.07592 38.939...</td>\n",
       "    </tr>\n",
       "    <tr>\n",
       "      <th>3</th>\n",
       "      <td>2000</td>\n",
       "      <td>Building</td>\n",
       "      <td>2015-04-24</td>\n",
       "      <td>E</td>\n",
       "      <td>BldgPly_4</td>\n",
       "      <td>4</td>\n",
       "      <td>POLYGON ((-77.07363 38.92978, -77.07363 38.929...</td>\n",
       "    </tr>\n",
       "    <tr>\n",
       "      <th>4</th>\n",
       "      <td>2000</td>\n",
       "      <td>Building</td>\n",
       "      <td>2015-04-24</td>\n",
       "      <td>E</td>\n",
       "      <td>BldgPly_5</td>\n",
       "      <td>5</td>\n",
       "      <td>POLYGON ((-77.07657 38.93682, -77.07656 38.936...</td>\n",
       "    </tr>\n",
       "  </tbody>\n",
       "</table>\n",
       "</div>"
      ]
     },
     "execution_count": 2,
     "metadata": {},
     "output_type": "execute_result"
    }
   ],
   "execution_count": 2
  },
  {
   "metadata": {
    "ExecuteTime": {
     "end_time": "2025-01-23T06:21:28.871282Z",
     "start_time": "2025-01-23T06:21:14.617176Z"
    }
   },
   "cell_type": "code",
   "source": [
    "simplified_gdf = gdf.simplify(tolerance=0.00001)\n",
    "geojson_data = json.loads(simplified_gdf.to_json())\n",
    "\n",
    "\n",
    "# with open('output.json', 'w') as f:\n",
    "#     json.dump(geojson_data, f, indent=4)"
   ],
   "id": "80ac76da38ff2acb",
   "outputs": [],
   "execution_count": 3
  },
  {
   "metadata": {
    "jupyter": {
     "is_executing": true
    },
    "ExecuteTime": {
     "start_time": "2025-01-23T06:21:30.110976Z"
    }
   },
   "cell_type": "code",
   "source": [
    "fig = go.Figure()\n",
    "\n",
    "print(f\"starting trace {gdf.index}\")\n",
    "\n",
    "fig.add_trace(go.Choroplethmapbox(\n",
    "    geojson=geojson_data,\n",
    "    locations=gdf.index,\n",
    "    z=gdf.index,\n",
    "    colorscale=[[0, 'rgb(65, 105, 225)'], [1, 'rgb(65, 105, 225)']],\n",
    "    showscale=False,\n",
    "    marker={\n",
    "        'opacity': 0.7,\n",
    "        'line': {'width': 0.5, 'color': 'rgb(40, 40, 40)'}\n",
    "    },\n",
    "    hoverinfo='none'\n",
    "))\n",
    "\n",
    "print(\"end trace\")\n"
   ],
   "id": "61b866e55611e188",
   "outputs": [],
   "execution_count": null
  },
  {
   "metadata": {
    "jupyter": {
     "is_executing": true
    }
   },
   "cell_type": "code",
   "source": [
    "\n",
    "fig.update_layout(\n",
    "    mapbox=dict(\n",
    "        style='open-street-map', # 'carto-positron',\n",
    "        center=dict(\n",
    "            lon=-77.0369,  # DC centers coordinates\n",
    "            lat=38.9072\n",
    "        ),\n",
    "        zoom=13\n",
    "    ),\n",
    "    margin=dict(l=0, r=0, t=0, b=0),\n",
    "    height=800,\n",
    "    paper_bgcolor='white',\n",
    "    plot_bgcolor='white'\n",
    ")"
   ],
   "id": "c98ba94d579704f3",
   "outputs": [],
   "execution_count": null
  },
  {
   "metadata": {},
   "cell_type": "code",
   "outputs": [],
   "execution_count": null,
   "source": "fig.show()",
   "id": "6073f8b4246259bf"
  }
 ],
 "metadata": {
  "kernelspec": {
   "display_name": "Python 3",
   "language": "python",
   "name": "python3"
  },
  "language_info": {
   "codemirror_mode": {
    "name": "ipython",
    "version": 2
   },
   "file_extension": ".py",
   "mimetype": "text/x-python",
   "name": "python",
   "nbconvert_exporter": "python",
   "pygments_lexer": "ipython2",
   "version": "2.7.6"
  }
 },
 "nbformat": 4,
 "nbformat_minor": 5
}
